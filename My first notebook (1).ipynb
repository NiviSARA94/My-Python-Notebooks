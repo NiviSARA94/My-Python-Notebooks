{
 "cells": [
  {
   "cell_type": "code",
   "execution_count": 5,
   "metadata": {},
   "outputs": [],
   "source": [
    "import requests\n",
    "import pandas as pd\n",
    "import numpy as np\n",
    "from bs4 import BeautifulSoup"
   ]
  },
  {
   "cell_type": "code",
   "execution_count": 9,
   "metadata": {
    "scrolled": true
   },
   "outputs": [],
   "source": [
    "#URL = \"https://www.worldometers.info/coronavirus/#countries\"\n",
    "html_page = requests.get(\"https://www.worldometers.info/coronavirus/#countries\").text\n",
    "soup = BeautifulSoup(html_page,'lxml')"
   ]
  },
  {
   "cell_type": "code",
   "execution_count": 10,
   "metadata": {},
   "outputs": [],
   "source": [
    "get_table = soup.find(\"table\",id=\"main_table_countries_today\")"
   ]
  },
  {
   "cell_type": "code",
   "execution_count": 42,
   "metadata": {},
   "outputs": [
    {
     "data": {
      "text/html": [
       "<div>\n",
       "<style scoped>\n",
       "    .dataframe tbody tr th:only-of-type {\n",
       "        vertical-align: middle;\n",
       "    }\n",
       "\n",
       "    .dataframe tbody tr th {\n",
       "        vertical-align: top;\n",
       "    }\n",
       "\n",
       "    .dataframe thead th {\n",
       "        text-align: right;\n",
       "    }\n",
       "</style>\n",
       "<table border=\"1\" class=\"dataframe\">\n",
       "  <thead>\n",
       "    <tr style=\"text-align: right;\">\n",
       "      <th></th>\n",
       "      <th>1</th>\n",
       "      <th>2</th>\n",
       "      <th>3</th>\n",
       "      <th>4</th>\n",
       "      <th>5</th>\n",
       "      <th>6</th>\n",
       "      <th>7</th>\n",
       "      <th>8</th>\n",
       "      <th>9</th>\n",
       "      <th>10</th>\n",
       "      <th>11</th>\n",
       "      <th>12</th>\n",
       "      <th>13</th>\n",
       "      <th>14</th>\n",
       "      <th>15</th>\n",
       "      <th>16</th>\n",
       "      <th>17</th>\n",
       "      <th>18</th>\n",
       "    </tr>\n",
       "  </thead>\n",
       "  <tbody>\n",
       "    <tr>\n",
       "      <th>China</th>\n",
       "      <td>China</td>\n",
       "      <td>83,565</td>\n",
       "      <td>+8</td>\n",
       "      <td>4,634</td>\n",
       "      <td>None</td>\n",
       "      <td>78,528</td>\n",
       "      <td>+10</td>\n",
       "      <td>403</td>\n",
       "      <td>6</td>\n",
       "      <td>58</td>\n",
       "      <td>3</td>\n",
       "      <td>90,410,000</td>\n",
       "      <td>62,814</td>\n",
       "      <td>1,439,323,776</td>\n",
       "      <td>Asia</td>\n",
       "      <td>17,224</td>\n",
       "      <td>310,601</td>\n",
       "      <td>16</td>\n",
       "    </tr>\n",
       "  </tbody>\n",
       "</table>\n",
       "</div>"
      ],
      "text/plain": [
       "          1       2   3       4     5       6    7    8  9   10 11  \\\n",
       "China  China  83,565  +8  4,634   None  78,528  +10  403  6  58  3   \n",
       "\n",
       "               12      13              14    15      16       17  18  \n",
       "China  90,410,000  62,814  1,439,323,776   Asia  17,224  310,601  16  "
      ]
     },
     "execution_count": 42,
     "metadata": {},
     "output_type": "execute_result"
    }
   ],
   "source": [
    "dic = {}\n",
    "for i in range(len(get_table_data)):\n",
    "  try:\n",
    "     key = get_table_data[i].find_all(\"a\",href=True)[0].string \n",
    "     #print(key)\n",
    "  except:\n",
    "     key = get_table_data[i].find_all(\"td\")[0].string\n",
    "    # print(key)   \n",
    "values = [j.string for j in get_table_data[i].find_all('td')]\n",
    "column_names =[\"Total Cases\",\"New Cases\",\"Total Deaths\",\"New Deaths\",\"Total Recovered\",\"Active\",\"Serious Critical\",\"Tot cases/1M pop\",\"Tot Deaths/1M pop\"]\n",
    "dic[key] = values\n",
    "pd.DataFrame(dic).iloc[1:,:].T"
   ]
  },
  {
   "cell_type": "code",
   "execution_count": 46,
   "metadata": {},
   "outputs": [],
   "source": [
    "df= pd.DataFrame(dic).iloc[1:,:].T.iloc[:,:9]\n",
    "df.index_name = \"country\"\n",
    "#print(df)"
   ]
  },
  {
   "cell_type": "code",
   "execution_count": 47,
   "metadata": {
    "scrolled": true
   },
   "outputs": [
    {
     "data": {
      "text/html": [
       "<div>\n",
       "<style scoped>\n",
       "    .dataframe tbody tr th:only-of-type {\n",
       "        vertical-align: middle;\n",
       "    }\n",
       "\n",
       "    .dataframe tbody tr th {\n",
       "        vertical-align: top;\n",
       "    }\n",
       "\n",
       "    .dataframe thead th {\n",
       "        text-align: right;\n",
       "    }\n",
       "</style>\n",
       "<table border=\"1\" class=\"dataframe\">\n",
       "  <thead>\n",
       "    <tr style=\"text-align: right;\">\n",
       "      <th></th>\n",
       "      <th>Total Cases</th>\n",
       "      <th>New Cases</th>\n",
       "      <th>Total Deaths</th>\n",
       "      <th>New Deaths</th>\n",
       "      <th>Total Recovered</th>\n",
       "      <th>Active</th>\n",
       "      <th>Serious Critical</th>\n",
       "      <th>Tot cases/1M pop</th>\n",
       "      <th>Tot Deaths/1M pop</th>\n",
       "    </tr>\n",
       "  </thead>\n",
       "  <tbody>\n",
       "    <tr>\n",
       "      <th>China</th>\n",
       "      <td>China</td>\n",
       "      <td>83,565</td>\n",
       "      <td>+8</td>\n",
       "      <td>4,634</td>\n",
       "      <td>None</td>\n",
       "      <td>78,528</td>\n",
       "      <td>+10</td>\n",
       "      <td>403</td>\n",
       "      <td>6</td>\n",
       "    </tr>\n",
       "  </tbody>\n",
       "</table>\n",
       "</div>"
      ],
      "text/plain": [
       "      Total Cases New Cases Total Deaths New Deaths Total Recovered  Active  \\\n",
       "China       China    83,565           +8     4,634             None  78,528   \n",
       "\n",
       "      Serious Critical Tot cases/1M pop Tot Deaths/1M pop  \n",
       "China              +10              403                 6  "
      ]
     },
     "execution_count": 47,
     "metadata": {},
     "output_type": "execute_result"
    }
   ],
   "source": [
    "df.columns = column_names\n",
    "df.head()"
   ]
  },
  {
   "cell_type": "code",
   "execution_count": null,
   "metadata": {},
   "outputs": [],
   "source": []
  }
 ],
 "metadata": {
  "kernelspec": {
   "display_name": "Python 3",
   "language": "python",
   "name": "python3"
  },
  "language_info": {
   "codemirror_mode": {
    "name": "ipython",
    "version": 3
   },
   "file_extension": ".py",
   "mimetype": "text/x-python",
   "name": "python",
   "nbconvert_exporter": "python",
   "pygments_lexer": "ipython3",
   "version": "3.6.5"
  }
 },
 "nbformat": 4,
 "nbformat_minor": 2
}
